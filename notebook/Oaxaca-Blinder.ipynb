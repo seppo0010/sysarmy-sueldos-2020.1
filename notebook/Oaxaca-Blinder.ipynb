{
 "cells": [
  {
   "cell_type": "code",
   "execution_count": 24,
   "metadata": {},
   "outputs": [],
   "source": [
    "import math\n",
    "import numpy as np\n",
    "import pandas as pd\n",
    "import matplotlib.pyplot as plt\n",
    "import matplotlib.patches as mpatches\n",
    "import xgboost as xgb\n",
    "from sklearn.linear_model import LinearRegression\n",
    "from sklearn.model_selection import cross_val_score, KFold\n",
    "from sklearn.metrics import r2_score, recall_score, precision_score, balanced_accuracy_score\n",
    "import scipy\n",
    "\n",
    "%matplotlib inline"
   ]
  },
  {
   "cell_type": "code",
   "execution_count": 2,
   "metadata": {},
   "outputs": [
    {
     "data": {
      "text/html": [
       "<div>\n",
       "<style scoped>\n",
       "    .dataframe tbody tr th:only-of-type {\n",
       "        vertical-align: middle;\n",
       "    }\n",
       "\n",
       "    .dataframe tbody tr th {\n",
       "        vertical-align: top;\n",
       "    }\n",
       "\n",
       "    .dataframe thead th {\n",
       "        text-align: right;\n",
       "    }\n",
       "</style>\n",
       "<table border=\"1\" class=\"dataframe\">\n",
       "  <thead>\n",
       "    <tr style=\"text-align: right;\">\n",
       "      <th></th>\n",
       "      <th>Me identifico</th>\n",
       "      <th>Tengo</th>\n",
       "      <th>Dónde estás trabajando</th>\n",
       "      <th>Años de experiencia</th>\n",
       "      <th>Años en la empresa actual</th>\n",
       "      <th>Años en el puesto actual</th>\n",
       "      <th>¿Gente a cargo?</th>\n",
       "      <th>Nivel de estudios alcanzado</th>\n",
       "      <th>Estado</th>\n",
       "      <th>Carrera</th>\n",
       "      <th>...</th>\n",
       "      <th>¿Tenés algún tipo de discapacidad?</th>\n",
       "      <th>¿Sentís que esto te dificultó el conseguir trabajo?</th>\n",
       "      <th>¿A qué eventos de tecnología asististe en el último año?</th>\n",
       "      <th>Cantidad de empleados</th>\n",
       "      <th>Actividad principal</th>\n",
       "      <th>¿La recomendás como un buen lugar para trabajar?</th>\n",
       "      <th>¿Cómo calificás las políticas de diversidad e inclusión?</th>\n",
       "      <th>¿A cuántos kilómetros de tu casa queda la oficina?</th>\n",
       "      <th>Beneficios extra</th>\n",
       "      <th>¿Cuáles considerás que son las mejores empresas de IT para trabajar en este momento, en tu ciudad?</th>\n",
       "    </tr>\n",
       "  </thead>\n",
       "  <tbody>\n",
       "    <tr>\n",
       "      <th>0</th>\n",
       "      <td>Hombre</td>\n",
       "      <td>40</td>\n",
       "      <td>Catamarca</td>\n",
       "      <td>15.0</td>\n",
       "      <td>0.0</td>\n",
       "      <td>0.0</td>\n",
       "      <td>0</td>\n",
       "      <td>Universitario</td>\n",
       "      <td>Completado</td>\n",
       "      <td>Licenciatura en Sistemas de Información</td>\n",
       "      <td>...</td>\n",
       "      <td>NaN</td>\n",
       "      <td>NaN</td>\n",
       "      <td>NaN</td>\n",
       "      <td>201-500</td>\n",
       "      <td>Otras industrias</td>\n",
       "      <td>6</td>\n",
       "      <td>6</td>\n",
       "      <td>4.0</td>\n",
       "      <td>Comidas pagas / subvencionadas, Estacionamient...</td>\n",
       "      <td>NaN</td>\n",
       "    </tr>\n",
       "    <tr>\n",
       "      <th>1</th>\n",
       "      <td>Mujer</td>\n",
       "      <td>35</td>\n",
       "      <td>Catamarca</td>\n",
       "      <td>15.0</td>\n",
       "      <td>10.0</td>\n",
       "      <td>3.0</td>\n",
       "      <td>5</td>\n",
       "      <td>Posgrado</td>\n",
       "      <td>Completado</td>\n",
       "      <td>Licenciatura en Sistemas de Información</td>\n",
       "      <td>...</td>\n",
       "      <td>NaN</td>\n",
       "      <td>No</td>\n",
       "      <td>NaN</td>\n",
       "      <td>11-50</td>\n",
       "      <td>Servicios / Consultoría de Software / Digital</td>\n",
       "      <td>5</td>\n",
       "      <td>8</td>\n",
       "      <td>2.0</td>\n",
       "      <td>Abono de celular y/o Internet</td>\n",
       "      <td>NaN</td>\n",
       "    </tr>\n",
       "    <tr>\n",
       "      <th>2</th>\n",
       "      <td>Hombre</td>\n",
       "      <td>39</td>\n",
       "      <td>Chaco</td>\n",
       "      <td>10.0</td>\n",
       "      <td>5.0</td>\n",
       "      <td>5.0</td>\n",
       "      <td>6</td>\n",
       "      <td>Universitario</td>\n",
       "      <td>Incompleto</td>\n",
       "      <td>Ingeniería en Sistemas de Información</td>\n",
       "      <td>...</td>\n",
       "      <td>NaN</td>\n",
       "      <td>NaN</td>\n",
       "      <td>Ekoparty</td>\n",
       "      <td>11-50</td>\n",
       "      <td>Servicios / Consultoría de Software / Digital</td>\n",
       "      <td>10</td>\n",
       "      <td>10</td>\n",
       "      <td>1.0</td>\n",
       "      <td>Capacitaciones y/o cursos, Clases de idiomas, ...</td>\n",
       "      <td>NaN</td>\n",
       "    </tr>\n",
       "    <tr>\n",
       "      <th>3</th>\n",
       "      <td>Hombre</td>\n",
       "      <td>42</td>\n",
       "      <td>Chaco</td>\n",
       "      <td>18.0</td>\n",
       "      <td>3.0</td>\n",
       "      <td>3.0</td>\n",
       "      <td>0</td>\n",
       "      <td>Universitario</td>\n",
       "      <td>Completado</td>\n",
       "      <td>Licenciatura en Análisis de Sistemas</td>\n",
       "      <td>...</td>\n",
       "      <td>NaN</td>\n",
       "      <td>No</td>\n",
       "      <td>NaN</td>\n",
       "      <td>11-50</td>\n",
       "      <td>Producto basado en Software</td>\n",
       "      <td>5</td>\n",
       "      <td>3</td>\n",
       "      <td>-1.0</td>\n",
       "      <td>Horarios flexibles, Sueldo dolarizado, WFH (Tr...</td>\n",
       "      <td>NaN</td>\n",
       "    </tr>\n",
       "    <tr>\n",
       "      <th>4</th>\n",
       "      <td>Hombre</td>\n",
       "      <td>29</td>\n",
       "      <td>Chaco</td>\n",
       "      <td>4.0</td>\n",
       "      <td>0.0</td>\n",
       "      <td>0.0</td>\n",
       "      <td>1</td>\n",
       "      <td>Universitario</td>\n",
       "      <td>Completado</td>\n",
       "      <td>Ingeniería Electrónica</td>\n",
       "      <td>...</td>\n",
       "      <td>NaN</td>\n",
       "      <td>NaN</td>\n",
       "      <td>Pynea, Autodefensa digital</td>\n",
       "      <td>201-500</td>\n",
       "      <td>Otras industrias</td>\n",
       "      <td>8</td>\n",
       "      <td>9</td>\n",
       "      <td>5.0</td>\n",
       "      <td>Abono de celular y/o Internet, Comidas pagas /...</td>\n",
       "      <td>NaN</td>\n",
       "    </tr>\n",
       "  </tbody>\n",
       "</table>\n",
       "<p>5 rows × 48 columns</p>\n",
       "</div>"
      ],
      "text/plain": [
       "  Me identifico  Tengo Dónde estás trabajando  Años de experiencia  \\\n",
       "0        Hombre     40              Catamarca                 15.0   \n",
       "1         Mujer     35              Catamarca                 15.0   \n",
       "2        Hombre     39                  Chaco                 10.0   \n",
       "3        Hombre     42                  Chaco                 18.0   \n",
       "4        Hombre     29                  Chaco                  4.0   \n",
       "\n",
       "   Años en la empresa actual  Años en el puesto actual ¿Gente a cargo?  \\\n",
       "0                        0.0                       0.0               0   \n",
       "1                       10.0                       3.0               5   \n",
       "2                        5.0                       5.0               6   \n",
       "3                        3.0                       3.0               0   \n",
       "4                        0.0                       0.0               1   \n",
       "\n",
       "  Nivel de estudios alcanzado      Estado  \\\n",
       "0               Universitario  Completado   \n",
       "1                    Posgrado  Completado   \n",
       "2               Universitario  Incompleto   \n",
       "3               Universitario  Completado   \n",
       "4               Universitario  Completado   \n",
       "\n",
       "                                   Carrera  ...  \\\n",
       "0  Licenciatura en Sistemas de Información  ...   \n",
       "1  Licenciatura en Sistemas de Información  ...   \n",
       "2    Ingeniería en Sistemas de Información  ...   \n",
       "3     Licenciatura en Análisis de Sistemas  ...   \n",
       "4                   Ingeniería Electrónica  ...   \n",
       "\n",
       "  ¿Tenés algún tipo de discapacidad?  \\\n",
       "0                                NaN   \n",
       "1                                NaN   \n",
       "2                                NaN   \n",
       "3                                NaN   \n",
       "4                                NaN   \n",
       "\n",
       "  ¿Sentís que esto te dificultó el conseguir trabajo?  \\\n",
       "0                                                NaN    \n",
       "1                                                 No    \n",
       "2                                                NaN    \n",
       "3                                                 No    \n",
       "4                                                NaN    \n",
       "\n",
       "  ¿A qué eventos de tecnología asististe en el último año?  \\\n",
       "0                                                NaN         \n",
       "1                                                NaN         \n",
       "2                                           Ekoparty         \n",
       "3                                                NaN         \n",
       "4                        Pynea, Autodefensa digital          \n",
       "\n",
       "  Cantidad de empleados                            Actividad principal  \\\n",
       "0               201-500                               Otras industrias   \n",
       "1                 11-50  Servicios / Consultoría de Software / Digital   \n",
       "2                 11-50  Servicios / Consultoría de Software / Digital   \n",
       "3                 11-50                    Producto basado en Software   \n",
       "4               201-500                               Otras industrias   \n",
       "\n",
       "  ¿La recomendás como un buen lugar para trabajar?  \\\n",
       "0                                                6   \n",
       "1                                                5   \n",
       "2                                               10   \n",
       "3                                                5   \n",
       "4                                                8   \n",
       "\n",
       "  ¿Cómo calificás las políticas de diversidad e inclusión?  \\\n",
       "0                                                  6         \n",
       "1                                                  8         \n",
       "2                                                 10         \n",
       "3                                                  3         \n",
       "4                                                  9         \n",
       "\n",
       "  ¿A cuántos kilómetros de tu casa queda la oficina?  \\\n",
       "0                                                4.0   \n",
       "1                                                2.0   \n",
       "2                                                1.0   \n",
       "3                                               -1.0   \n",
       "4                                                5.0   \n",
       "\n",
       "                                    Beneficios extra  \\\n",
       "0  Comidas pagas / subvencionadas, Estacionamient...   \n",
       "1                      Abono de celular y/o Internet   \n",
       "2  Capacitaciones y/o cursos, Clases de idiomas, ...   \n",
       "3  Horarios flexibles, Sueldo dolarizado, WFH (Tr...   \n",
       "4  Abono de celular y/o Internet, Comidas pagas /...   \n",
       "\n",
       "  ¿Cuáles considerás que son las mejores empresas de IT para trabajar en este momento, en tu ciudad?  \n",
       "0                                                NaN                                                  \n",
       "1                                                NaN                                                  \n",
       "2                                                NaN                                                  \n",
       "3                                                NaN                                                  \n",
       "4                                                NaN                                                  \n",
       "\n",
       "[5 rows x 48 columns]"
      ]
     },
     "execution_count": 2,
     "metadata": {},
     "output_type": "execute_result"
    }
   ],
   "source": [
    "df = pd.read_csv('2020.1 - sysarmy - Encuesta de remuneración salarial Argentina - Argentina.csv', skiprows=9)\n",
    "df = df[df['Salario mensual BRUTO (en tu moneda local)'] < 1_000_000]\n",
    "df = df[df['Años en la empresa actual'] < 40]\n",
    "df = df[(df['Salario mensual BRUTO (en tu moneda local)'] >= 10_000) & (df['Salario mensual BRUTO (en tu moneda local)'] <= 1_000_000)]\n",
    "df.head()"
   ]
  },
  {
   "cell_type": "code",
   "execution_count": 12,
   "metadata": {},
   "outputs": [
    {
     "data": {
      "text/plain": [
       "Index(['Me identifico', 'Tengo', 'Dónde estás trabajando',\n",
       "       'Años de experiencia', 'Años en la empresa actual',\n",
       "       'Años en el puesto actual', '¿Gente a cargo?',\n",
       "       'Nivel de estudios alcanzado', 'Estado', 'Carrera', 'Universidad',\n",
       "       'Realizaste cursos de especialización',\n",
       "       '¿Contribuís a proyectos open source?', '¿Programás como hobbie?',\n",
       "       'Trabajo de', 'Plataformas', 'Lenguajes de programación',\n",
       "       'Frameworks, herramientas y librerías', 'Bases de datos',\n",
       "       'QA / Testing', 'IDEs', '¿Qué SO usás en tu laptop/PC para trabajar?',\n",
       "       '¿Y en tu celular?', '¿Tenés guardias?', 'Cuánto cobrás por guardia',\n",
       "       '¿Porcentaje, bruto o neto?', 'Tipo de contrato',\n",
       "       'Salario mensual BRUTO (en tu moneda local)',\n",
       "       'Salario mensual NETO (en tu moneda local)',\n",
       "       '¿Qué tan conforme estás con tu sueldo?',\n",
       "       'Cómo creés que está tu sueldo con respecto al último semestre',\n",
       "       'Recibís algún tipo de bono', 'A qué está atado el bono',\n",
       "       '¿Tuviste ajustes por inflación en 2019?',\n",
       "       '¿De qué % fue el ajuste total?', '¿En qué mes fue el último ajuste?',\n",
       "       '¿Sufriste o presenciaste situaciones de violencia laboral?',\n",
       "       'Orientación sexual', '¿Tenés algún tipo de discapacidad?',\n",
       "       '¿Sentís que esto te dificultó el conseguir trabajo?',\n",
       "       '¿A qué eventos de tecnología asististe en el último año?',\n",
       "       'Cantidad de empleados', 'Actividad principal',\n",
       "       '¿La recomendás como un buen lugar para trabajar?',\n",
       "       '¿Cómo calificás las políticas de diversidad e inclusión?',\n",
       "       '¿A cuántos kilómetros de tu casa queda la oficina?',\n",
       "       'Beneficios extra',\n",
       "       '¿Cuáles considerás que son las mejores empresas de IT para trabajar en este momento, en tu ciudad?'],\n",
       "      dtype='object')"
      ]
     },
     "execution_count": 12,
     "metadata": {},
     "output_type": "execute_result"
    }
   ],
   "source": [
    "df.columns"
   ]
  },
  {
   "cell_type": "code",
   "execution_count": 7,
   "metadata": {},
   "outputs": [
    {
     "data": {
      "text/plain": [
       "array(['Universitario', 'Posgrado', 'Terciario', 'Secundario',\n",
       "       'Doctorado', 'Posdoctorado', 'Primario'], dtype=object)"
      ]
     },
     "execution_count": 7,
     "metadata": {},
     "output_type": "execute_result"
    }
   ],
   "source": [
    "df['Nivel de estudios alcanzado'].unique()"
   ]
  },
  {
   "cell_type": "code",
   "execution_count": 14,
   "metadata": {},
   "outputs": [
    {
     "data": {
      "text/plain": [
       "Full-Time                                                 4902\n",
       "Part-Time                                                  325\n",
       "Tercerizado (trabajo a través de consultora o agencia)     206\n",
       "Remoto (empresa de otro país)                              184\n",
       "Freelance                                                  149\n",
       "Name: Tipo de contrato, dtype: int64"
      ]
     },
     "execution_count": 14,
     "metadata": {},
     "output_type": "execute_result"
    }
   ],
   "source": [
    "df['Tipo de contrato'].value_counts()"
   ]
  },
  {
   "cell_type": "code",
   "execution_count": 18,
   "metadata": {},
   "outputs": [
    {
     "data": {
      "text/plain": [
       "array(['201-500', '11-50', '1-10', '5001-10000', '101-200', '10001+',\n",
       "       '2001-5000', '51-100', '1001-2000', '501-1000'], dtype=object)"
      ]
     },
     "execution_count": 18,
     "metadata": {},
     "output_type": "execute_result"
    }
   ],
   "source": [
    "df['Cantidad de empleados'].unique()"
   ]
  },
  {
   "cell_type": "code",
   "execution_count": 17,
   "metadata": {},
   "outputs": [],
   "source": [
    "df = df[df['Tipo de contrato'] == 'Full-Time']"
   ]
  },
  {
   "cell_type": "code",
   "execution_count": 22,
   "metadata": {},
   "outputs": [],
   "source": [
    "def prepare_row(row):\n",
    "    return pd.Series({\n",
    "        'log(salary)': np.log(row['Salario mensual BRUTO (en tu moneda local)'] / 40),\n",
    "        'male': row['Me identifico'] == 'Hombre',\n",
    "        'age': row['Tengo'],\n",
    "        'age_squared': row['Tengo']**2,\n",
    "        'education': {\n",
    "            'Primario 1': 0,\n",
    "            'Secundario 1': 1,\n",
    "            'Terciario 1': 2,\n",
    "            'Universitario 1': 2,\n",
    "            'Posgrado 1': 3,\n",
    "            'Doctorado 1': 3,\n",
    "            'Posdoctorado 1': 3,\n",
    "            'Primario 0': 0,\n",
    "            'Secundario 0': 0,\n",
    "            'Terciario 0': 1,\n",
    "            'Universitario 0': 1,\n",
    "            'Posgrado 0': 2,\n",
    "            'Doctorado 0': 3,\n",
    "            'Posdoctorado 0': 3,\n",
    "        }[f\"{row['Nivel de estudios alcanzado']} {int(row['Estado'] == 'Completado')}\"],\n",
    "        'current_enterprise_years': row['Años en la empresa actual'],\n",
    "        'current_enterprise_years_squared': row['Años en la empresa actual'] ** 2,\n",
    "        'enterprise_size': {\n",
    "            '201-500': 2,\n",
    "            '11-50': 0,\n",
    "            '1-10': 0,\n",
    "            '5001-10000': 4,\n",
    "            '101-200': 1,\n",
    "            '10001+': 4,\n",
    "            '2001-5000': 4,\n",
    "            '51-100': 1,\n",
    "            '1001-2000': 4,\n",
    "            '501-1000': 3,\n",
    "        }[row['Cantidad de empleados']],\n",
    "    })\n",
    "\n",
    "df = df.apply(prepare_row, axis=1)"
   ]
  },
  {
   "cell_type": "code",
   "execution_count": 23,
   "metadata": {},
   "outputs": [],
   "source": [
    "df_male = df[df['male'] == True].drop('male', axis=1)\n",
    "df_female = df[df['male'] != True].drop('male', axis=1)"
   ]
  },
  {
   "cell_type": "code",
   "execution_count": 26,
   "metadata": {},
   "outputs": [
    {
     "data": {
      "text/plain": [
       "0.19728766518202767"
      ]
     },
     "execution_count": 26,
     "metadata": {},
     "output_type": "execute_result"
    }
   ],
   "source": [
    "LinearRegression().fit(df_male.drop('log(salary)', axis=1), df_male['log(salary)']).score(df_male.drop('log(salary)', axis=1), df_male['log(salary)'])"
   ]
  },
  {
   "cell_type": "code",
   "execution_count": 27,
   "metadata": {},
   "outputs": [
    {
     "data": {
      "text/plain": [
       "0.15809294237238314"
      ]
     },
     "execution_count": 27,
     "metadata": {},
     "output_type": "execute_result"
    }
   ],
   "source": [
    "LinearRegression().fit(df_female.drop('log(salary)', axis=1), df_female['log(salary)']).score(df_female.drop('log(salary)', axis=1), df_female['log(salary)'])"
   ]
  },
  {
   "cell_type": "code",
   "execution_count": 31,
   "metadata": {},
   "outputs": [
    {
     "data": {
      "text/plain": [
       "0.025439128393805518"
      ]
     },
     "execution_count": 31,
     "metadata": {},
     "output_type": "execute_result"
    }
   ],
   "source": [
    "m_male = LinearRegression().fit(df_male.drop('log(salary)', axis=1), df_male['log(salary)'])\n",
    "m_female = LinearRegression().fit(df_female.drop('log(salary)', axis=1), df_female['log(salary)'])\n",
    "u = np.mean(m_male.predict(df_female.drop('log(salary)', axis=1)) - m_female.predict(df_female.drop('log(salary)', axis=1)))\n",
    "E = np.mean(m_male.predict(df_male.drop('log(salary)', axis=1)))  - np.mean(m_male.predict(df_female.drop('log(salary)', axis=1)))\n",
    "gpg = (np.mean(df_male['log(salary)']) - np.mean(df_female['log(salary)'])) / np.mean(df_male['log(salary)'])\n",
    "gpg * u / (u + E)"
   ]
  }
 ],
 "metadata": {
  "kernelspec": {
   "display_name": "Python 3",
   "language": "python",
   "name": "python3"
  },
  "language_info": {
   "codemirror_mode": {
    "name": "ipython",
    "version": 3
   },
   "file_extension": ".py",
   "mimetype": "text/x-python",
   "name": "python",
   "nbconvert_exporter": "python",
   "pygments_lexer": "ipython3",
   "version": "3.8.2"
  }
 },
 "nbformat": 4,
 "nbformat_minor": 4
}
